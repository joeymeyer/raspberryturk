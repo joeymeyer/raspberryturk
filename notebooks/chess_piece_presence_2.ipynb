{
 "cells": [
  {
   "cell_type": "code",
   "execution_count": null,
   "metadata": {
    "collapsed": true
   },
   "outputs": [],
   "source": [
    "# @formatter:off\n",
    "%load_ext autoreload\n",
    "%autoreload 2\n",
    "# @formatter:on"
   ]
  },
  {
   "cell_type": "code",
   "execution_count": null,
   "outputs": [],
   "source": [
    "from raspberryturk.core.data.dataset import Dataset\n",
    "\n",
    "d = Dataset.load_file(\"../data/processed/example_dataset.npz\")\n"
   ],
   "metadata": {
    "collapsed": false
   }
  },
  {
   "cell_type": "code",
   "execution_count": null,
   "outputs": [],
   "source": [
    "import numpy as np\n",
    "import cv2\n",
    "\n",
    "def convert_imgs(X):\n",
    "    norm_imgs = X.reshape((-1,60,60,3))\n",
    "    bgr_imgs = ((norm_imgs + 1.0) * 127.5).astype(np.uint8)\n",
    "    return np.array([cv2.cvtColor(bgr_img, cv2.COLOR_BGR2RGB) for bgr_img in bgr_imgs])\n",
    "\n",
    "imgs = convert_imgs(d.X_train)\n",
    "validation_imgs = convert_imgs(d.X_val)\n",
    "label_names = [\"Empty\", \"Green\", \"Orange\"]"
   ],
   "metadata": {
    "collapsed": false
   }
  },
  {
   "cell_type": "code",
   "execution_count": null,
   "outputs": [],
   "source": [
    "import matplotlib.pyplot as plt\n",
    "\n",
    "\n",
    "def plot_image(img_index, validation=False, title=None):\n",
    "    img = (validation_imgs if validation else imgs)[img_index]\n",
    "    if title is None:\n",
    "        label = (d.y_val if validation else d.y_train)[img_index]\n",
    "        title = label_names[label]\n",
    "    plt.title(title)\n",
    "    plt.imshow(img)\n",
    "    plt.show()\n",
    "\n",
    "\n",
    "plot_image(4)"
   ],
   "metadata": {
    "collapsed": false
   }
  }
 ],
 "metadata": {
  "kernelspec": {
   "display_name": "Python 3",
   "language": "python",
   "name": "python3"
  },
  "language_info": {
   "codemirror_mode": {
    "name": "ipython",
    "version": 2
   },
   "file_extension": ".py",
   "mimetype": "text/x-python",
   "name": "python",
   "nbconvert_exporter": "python",
   "pygments_lexer": "ipython2",
   "version": "2.7.6"
  }
 },
 "nbformat": 4,
 "nbformat_minor": 0
}
